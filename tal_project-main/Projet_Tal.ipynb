{
  "cells": [
    {
      "cell_type": "markdown",
      "source": [],
      "metadata": {
        "id": "caOej2IFNLqN"
      }
    },
    {
      "cell_type": "code",
      "execution_count": 160,
      "metadata": {
        "id": "jt5dON2Cvcum"
      },
      "outputs": [],
      "source": [
        "# Import necessary libraries\n",
        "import numpy as np\n",
        "import pandas as pd\n",
        "from sklearn.model_selection import train_test_split\n",
        "from sklearn.feature_extraction.text import CountVectorizer\n",
        "from sklearn.feature_extraction.text import TfidfVectorizer\n",
        "from sklearn.naive_bayes import MultinomialNB\n",
        "from sklearn.metrics import accuracy_score, classification_report\n",
        "from gensim.models import Word2Vec\n",
        "from nltk.tokenize import word_tokenize\n",
        "from sklearn.naive_bayes import GaussianNB\n",
        "import joblib\n",
        "from sklearn.dummy import DummyClassifier\n",
        "from sklearn.metrics import confusion_matrix\n"
      ]
    },
    {
      "cell_type": "code",
      "execution_count": 161,
      "metadata": {
        "colab": {
          "base_uri": "https://localhost:8080/"
        },
        "id": "AXAbfrCb2GTT",
        "outputId": "ce472e9b-3706-4c4a-9023-13a6325550cf"
      },
      "outputs": [
        {
          "output_type": "stream",
          "name": "stdout",
          "text": [
            "doc_id,titre,type,difficulte,cout,ingredients,recette\n",
            "recette_221358.xml,\"Feuilleté de saumon et de poireau, sauce aux crevettes\",Plat principal,Facile,Moyen,\"- 1 gros pavé de saumon - 100 g de crevettes décortiquées - 2 poireaux moyens - 1 oignon  - 1 pâte feuilletée - 25 cl de crème liquide épaisse - Un peu de vin blanc - 1/2 citron jaune - 1 jaune d'oeuf - Un peu d'huile d'olive  - Une noisette de beurre - Sel, aneth\",\"Couper finement le blanc et un peu de vert des poireaux en rondelle. Éplucher et couper l'oignon. Faire chauffer l'huile d'olive et le beurre dans une poêle. Y faire revenir à feu doux les poireaux et l'oignon environ 15 minutes. En fin de cuisson ajouter le vin blanc, un peu d'aneth et du sel. Pendant ce temps faire cuire le saumon dans une poêle huilée. En fin de cuisson le faire griller sur feu vif. Préparer la sauce : mélanger les crevettes, le 1/2 citron jaune, la crème, le sel et l'aneth. Ajouter un peu de sauce à la préparation des poireaux. Préchauffer le four à 200°C (thermostat 6-7.Étaler la pâte feuilletée et la couper en 2. Sur une moitié disposer la préparation au poireaux. Disposer le saumon sur les poireaux. Y verser un peu de sauce sur le dessus (garder le reste de sauce au frigo). Refermer le chausson à l'aide de l'autre moitié de la pâte feuilleté. Bien appuyer sur les bords. Étaler le jaune d’œuf sur le dessus à l'aide d'un pinceau. Enfourner environ 20 minutes. Avant de servir chauffer la sauce et la servir à côté du feuilleté.On peut servir ce feuilleté avec une salade verte.\"\n",
            "recette_48656.xml,Cake poulet/moutarde/amandes,Entrée,Très facile,Bon marché,- 3 œufs - 150 g de farine - 1 sachet de levure - 10 cl d'huile d'olive - 10 cl de lait - 100 g de gruyère râpéPour la garniture : - 200 g de blanc de poulet - 1 échalote - 1 cuillère à soupe d'huile d'olive - 3 cuillères à soupe de moutarde à l'ancienne - 150 g d'amandes entières,\"Couper finement l'échalote, la faire revenir à la poêle dans l'huile d'olive. Ajouter les blancs de poulet coupés en cubes pour les faire dorer. Puis, ajouter la moutarde à l'ancienne et faire cuire 10 minutes. Laisser refroidir. Mélanger dans un saladier les œufs, la farine, la levure. Ajouter l'huile d'olive, le lait et enfin le gruyère râpé et les amandes. Incorporer les blancs de poulet à la moutarde. Faire cuire la préparation dans un moule à cake au four à 180°C (thermostat 6) pendant 45 min. Idéal coupé en tranche à l'apéritif\"\n",
            "recette_30049.xml,Bûche à la truite fumée (7ème rencontre),Entrée,Moyennement difficile,Assez Cher,\"- 800 g de filet de truite saumonnée fumée en tranches - 300 g d'épinards frais - 300 g de mascarpone - poivre - aneth, persil et oeufs de saumon pour la décoration\",\"Faites blanchir les épinards à l'eau bouillante salée. Egouttez-les et laissez-les refroidir. Mixez 300 g de truite fumée (les plus petites tranches) avec le mascarpone et poivrez. Etalez les 500 g restant de truite sur une feuille de papier aluminium côte à côte en faisant chevaucher les tranches. Tartinez avec le mélange truite/mascarpone, répartissez ensuite les épinards et à nouveau une couche du mélange truite/mascarpone. Roulez l'ensemble comme une bûche (opération délicate) et posez-la sur le plat de service. Recouvrez la bûche du reste de mélange truite/mascarpone. Décorer avec des oeufs de saumon, quelques brins d'aneth et du persil. Placez ensuite 1 heure au frigo avant de servir. Cette entrée peut également être réalisée avec du saumon fumé. La roulade sera plus facile à faire car les tranches de saumon sont plus grandes que celles de la truite saumonnée.\"\n",
            "recette_71424.xml,Gâteau au yaourt au coco sans huile de laetitia,Dessert,Très facile,Bon marché,- 1 pot de yaourt - 1 pot de lait de coco - 3 oeufs - 1 pot de coco râpée - 3 pots de farine - 2 pots de sucre - 1 pincée de sel - 1 sachet de levure,\"Mélanger dans l'ordre tous les ingrédients en prenant le pot de yaourt comme mesure. Mettre la préparation dans un moule et l'enfourner à 180°, thermostat 6, pendant 45 min. Ce dessert s'accompagne très bien d'une boule de glace vanille ou coco pour les gourmands.\"\n",
            "recette_217204.xml,Crêpes au canard laqué,Entrée,Moyennement difficile,Moyen,\"- 90 g de farine - 45 g de maïzena - 2 œufs - 18 cl d'eau - 6 cl de lait - 2 cuillères à café de sucre - 1 cuillère à soupe d'huile végétale - 15 petits poireaux fins (spring onions) - 2 carottes, pelées et coupées en fines tiges - 1 canard laqué chinois - 6 cl de sauce hoisin - 1 cuillère à soupe de vin de rizpour servir : - 12 tiges de ciboulette - 9 cl de sauce hoisin\",\"Fouetter les œufs avec l'eau, le lait et le sucre. Tamiser la farine et la maïzena dans un autre bol. Faire un puits au centre et ajouter graduellement le mélange à base d’œufs et battre jusqu'à obtention d'une pâte lisse. Chauffer l'huile dans une poêle à feu moyen, ajouter 2 cuillères à soupe de pâte et faire tourner doucement pour former une crêpe ronde. Cuire 2 minutes, jusqu'à ce que la crêpe soit dorée. Cuire l'autre face 10 secondes. Répéter l'opération avec le reste de la pâte et huile. Pour la farce : couper la queue de chaque poireau avec un couteau pointu ou des ciseaux pour former une frange. Placer les poireaux et les carottes dans un bol d'eau glacée et laisser au réfrigérateur pendant 15 minutes ou jusqu'à ce que les poireaux forment une boucle. Retirer la chair et peau du canard et couper en morceaux. Mélanger la sauce hoisin et le vin de riz. Etaler les crêpes sur la surface de travail et placer une cuillère à soupe de viande et peau de canard au centre de chaque crêpe. Ajouter 1 cuillère à café du mélange de sauce hoisin et vin sur le dessus. Ajouter un poireau et 3-4 tiges de carottes. Enrouler et fermer avec une tige de ciboulette en coupant le bout de la tige si elle est trop longue. Servir avec de la sauce hoisin sur le côté.Béatrice Truchot, cordon bleu bénévole pour Enfants du Mékong, vous donne cette délicieuse recette vietnamienne. Si, comme Béatrice, vous souhaitez participer à la nutrition des enfants très pauvres d'Asie du Sud-Est,cliquez sur ce lien\"\n",
            "recette_86256.xml,Verrines aux asperges,Entrée,Facile,Moyen,- 1 sachet de 500 g d'asperges surgelées - 2 cuillères à soupe d'huile d'olive - 1 pincée de parmesan en poudre - 3 feuilles de basilic mixées - 2 grosses cuillères à soupe de crème fraîche épaisse - sel et poivre,\"Faire cuire les asperges à l'eau bouillante salée. Les égoutter et les sécher dans du papier absorbant. Découper les tiges et faire sauter le reste des asperges à la poêle avec l'huile d'olive. Les saupoudrer de parmesan, de basilic et ajouter sel et poivre. Mixer le tout en ajoutant la crème fraîche épaisse. Remplir les verrines et mettre au frais avant de servir. On peut également confectionner ces verrines avec des asperges en bocaux- rosé ou blanc\"\n",
            "recette_21044.xml,Lotte au paprika,Plat principal,Facile,Moyen,- 750 g de filets de lotte - 30 g de beurre - 2 gros oignons - 1 cuillère à soupe de paprika - 10 cl de vin blanc sec - 100 g de champignons  - 4 cuillères à soupe de crème fraîche - 1 cuillère à soupe de persil haché - sel et poivre,Dorez les oignons émincés dans le beurre puis ajoutez le paprika et les filets de poisson. Mouillez de vin blanc et ajoutez les champignons émincés. Laissez cuire pendant 15 min puis égouttez et réservez les filets de lotte au chaud. Incorporez la crème à la sauce et nappez-en le poisson. Saupoudrez de persil et servez bien chaud.\n",
            "recette_27962.xml,Tourte à la viande et aux champignons,Plat principal,Facile,Moyen,- Pour la pâte brisée :  - 300 g de farine - 750 g de beurre - 2 cuillères à café d'huile - 15 cl d'eau -   - 1 pincée de sel - Pour la farce : - 150 g de gruyère râpé - 4 escalopes de veau -   - 2 tranches de jambon blanc - 250 g de champignons en lamelles - 25 cl de vin blanc sec - 1 jaune d'œufs - 1 noix de beurre - 1 cuillère à soupe de farine - sel - poivre,\"Dans un saladier, malaxer 300 g de farine avec 750 g de beurre et y incorporer l’huile et l’eau. Ajouter une pincée de sel, la rouler en boule et laisser reposer pendant 1 h. Mettre les escalopes à cuire dans une poêle et y faire rissoler les champignons. Hacher les escalopes, le jambon et les champignons. Dans une casserole, faire un roux avec le beurre et la farine. Arroser de vin blanc et porter à ébullition. Incorporer le gruyère râpé, assaisonner et ajouter le hachis de viande et de champignons. Diviser la pâte en deux boules inégales. Abaisser les boules au rouleau et foncer la plus grande dans un plat à tarte beurré.Remplir de la préparation précédente et recouvrir de la deuxième pâte. Sceller les deux pâtes avec un peu d’eau et former une cheminée au milieu de la tourte. Dorer au jaune d’œuf et enfourner à 180°C (thermostat 6) pendant 40 min.\"\n",
            "recette_18449.xml,Gibelotte de lapin aux champignons,Plat principal,Facile,Moyen,- 1 lapin  - 200 g de lardons - 20 petits oignons blancs - 1 boîte de champignons de Paris en conserve - 50 cl de vin blanc sec - eau - 1 cube de bouillon de volaille - bouquet garni - huile d'olive - 30 g de beurre - 60 g de farine - pommes de terre,\"Dans une cocotte, faire fondre le beurre dans un gros filet d'huile d'olive. Puis faire revenir les lardons et les petits oignons épluchés. Lorsque le tout est bien coloré, réserver. Dans la même graisse, faire dorer les morceaux de lapin puis ajouter la farine en pluie, le vin, l'eau, la tablette de bouillon, le bouquet garni, les champignons égouttés et les lardons et les oignons. Laisser mijoter à feu moyen 45 mn. Ajouter les pommes de terre épluchées et si nécessaire coupées en morceaux. Remettre sur le feu 30 mn. Si besoin, rajouter un peu d'eau pour recouvrir les pommes de terre. Servir directement dans la cocotte ou dans un plat creux.\"\n"
          ]
        }
      ],
      "source": [
        "!head /content/drive/MyDrive/data_train.csv"
      ]
    },
    {
      "cell_type": "code",
      "execution_count": 162,
      "metadata": {
        "colab": {
          "base_uri": "https://localhost:8080/",
          "height": 206
        },
        "id": "yXwfXUVZvm6q",
        "outputId": "e1cd7eeb-d2fb-4db2-bda5-a3c6d2cc32f1"
      },
      "outputs": [
        {
          "output_type": "execute_result",
          "data": {
            "text/plain": [
              "               doc_id                                              titre  \\\n",
              "0  recette_221358.xml  Feuilleté de saumon et de poireau, sauce aux c...   \n",
              "1   recette_48656.xml                       Cake poulet/moutarde/amandes   \n",
              "2   recette_30049.xml           Bûche à la truite fumée (7ème rencontre)   \n",
              "3   recette_71424.xml    Gâteau au yaourt au coco sans huile de laetitia   \n",
              "4  recette_217204.xml                             Crêpes au canard laqué   \n",
              "\n",
              "             type             difficulte        cout  \\\n",
              "0  Plat principal                 Facile       Moyen   \n",
              "1          Entrée            Très facile  Bon marché   \n",
              "2          Entrée  Moyennement difficile  Assez Cher   \n",
              "3         Dessert            Très facile  Bon marché   \n",
              "4          Entrée  Moyennement difficile       Moyen   \n",
              "\n",
              "                                         ingredients  \\\n",
              "0  - 1 gros pavé de saumon - 100 g de crevettes d...   \n",
              "1  - 3 œufs - 150 g de farine - 1 sachet de levur...   \n",
              "2  - 800 g de filet de truite saumonnée fumée en ...   \n",
              "3  - 1 pot de yaourt - 1 pot de lait de coco - 3 ...   \n",
              "4  - 90 g de farine - 45 g de maïzena - 2 œufs - ...   \n",
              "\n",
              "                                             recette  \n",
              "0  Couper finement le blanc et un peu de vert des...  \n",
              "1  Couper finement l'échalote, la faire revenir à...  \n",
              "2  Faites blanchir les épinards à l'eau bouillant...  \n",
              "3  Mélanger dans l'ordre tous les ingrédients en ...  \n",
              "4  Fouetter les œufs avec l'eau, le lait et le su...  "
            ],
            "text/html": [
              "\n",
              "  <div id=\"df-6abc1585-0c98-402f-9d48-428a960edade\" class=\"colab-df-container\">\n",
              "    <div>\n",
              "<style scoped>\n",
              "    .dataframe tbody tr th:only-of-type {\n",
              "        vertical-align: middle;\n",
              "    }\n",
              "\n",
              "    .dataframe tbody tr th {\n",
              "        vertical-align: top;\n",
              "    }\n",
              "\n",
              "    .dataframe thead th {\n",
              "        text-align: right;\n",
              "    }\n",
              "</style>\n",
              "<table border=\"1\" class=\"dataframe\">\n",
              "  <thead>\n",
              "    <tr style=\"text-align: right;\">\n",
              "      <th></th>\n",
              "      <th>doc_id</th>\n",
              "      <th>titre</th>\n",
              "      <th>type</th>\n",
              "      <th>difficulte</th>\n",
              "      <th>cout</th>\n",
              "      <th>ingredients</th>\n",
              "      <th>recette</th>\n",
              "    </tr>\n",
              "  </thead>\n",
              "  <tbody>\n",
              "    <tr>\n",
              "      <th>0</th>\n",
              "      <td>recette_221358.xml</td>\n",
              "      <td>Feuilleté de saumon et de poireau, sauce aux c...</td>\n",
              "      <td>Plat principal</td>\n",
              "      <td>Facile</td>\n",
              "      <td>Moyen</td>\n",
              "      <td>- 1 gros pavé de saumon - 100 g de crevettes d...</td>\n",
              "      <td>Couper finement le blanc et un peu de vert des...</td>\n",
              "    </tr>\n",
              "    <tr>\n",
              "      <th>1</th>\n",
              "      <td>recette_48656.xml</td>\n",
              "      <td>Cake poulet/moutarde/amandes</td>\n",
              "      <td>Entrée</td>\n",
              "      <td>Très facile</td>\n",
              "      <td>Bon marché</td>\n",
              "      <td>- 3 œufs - 150 g de farine - 1 sachet de levur...</td>\n",
              "      <td>Couper finement l'échalote, la faire revenir à...</td>\n",
              "    </tr>\n",
              "    <tr>\n",
              "      <th>2</th>\n",
              "      <td>recette_30049.xml</td>\n",
              "      <td>Bûche à la truite fumée (7ème rencontre)</td>\n",
              "      <td>Entrée</td>\n",
              "      <td>Moyennement difficile</td>\n",
              "      <td>Assez Cher</td>\n",
              "      <td>- 800 g de filet de truite saumonnée fumée en ...</td>\n",
              "      <td>Faites blanchir les épinards à l'eau bouillant...</td>\n",
              "    </tr>\n",
              "    <tr>\n",
              "      <th>3</th>\n",
              "      <td>recette_71424.xml</td>\n",
              "      <td>Gâteau au yaourt au coco sans huile de laetitia</td>\n",
              "      <td>Dessert</td>\n",
              "      <td>Très facile</td>\n",
              "      <td>Bon marché</td>\n",
              "      <td>- 1 pot de yaourt - 1 pot de lait de coco - 3 ...</td>\n",
              "      <td>Mélanger dans l'ordre tous les ingrédients en ...</td>\n",
              "    </tr>\n",
              "    <tr>\n",
              "      <th>4</th>\n",
              "      <td>recette_217204.xml</td>\n",
              "      <td>Crêpes au canard laqué</td>\n",
              "      <td>Entrée</td>\n",
              "      <td>Moyennement difficile</td>\n",
              "      <td>Moyen</td>\n",
              "      <td>- 90 g de farine - 45 g de maïzena - 2 œufs - ...</td>\n",
              "      <td>Fouetter les œufs avec l'eau, le lait et le su...</td>\n",
              "    </tr>\n",
              "  </tbody>\n",
              "</table>\n",
              "</div>\n",
              "    <div class=\"colab-df-buttons\">\n",
              "\n",
              "  <div class=\"colab-df-container\">\n",
              "    <button class=\"colab-df-convert\" onclick=\"convertToInteractive('df-6abc1585-0c98-402f-9d48-428a960edade')\"\n",
              "            title=\"Convert this dataframe to an interactive table.\"\n",
              "            style=\"display:none;\">\n",
              "\n",
              "  <svg xmlns=\"http://www.w3.org/2000/svg\" height=\"24px\" viewBox=\"0 -960 960 960\">\n",
              "    <path d=\"M120-120v-720h720v720H120Zm60-500h600v-160H180v160Zm220 220h160v-160H400v160Zm0 220h160v-160H400v160ZM180-400h160v-160H180v160Zm440 0h160v-160H620v160ZM180-180h160v-160H180v160Zm440 0h160v-160H620v160Z\"/>\n",
              "  </svg>\n",
              "    </button>\n",
              "\n",
              "  <style>\n",
              "    .colab-df-container {\n",
              "      display:flex;\n",
              "      gap: 12px;\n",
              "    }\n",
              "\n",
              "    .colab-df-convert {\n",
              "      background-color: #E8F0FE;\n",
              "      border: none;\n",
              "      border-radius: 50%;\n",
              "      cursor: pointer;\n",
              "      display: none;\n",
              "      fill: #1967D2;\n",
              "      height: 32px;\n",
              "      padding: 0 0 0 0;\n",
              "      width: 32px;\n",
              "    }\n",
              "\n",
              "    .colab-df-convert:hover {\n",
              "      background-color: #E2EBFA;\n",
              "      box-shadow: 0px 1px 2px rgba(60, 64, 67, 0.3), 0px 1px 3px 1px rgba(60, 64, 67, 0.15);\n",
              "      fill: #174EA6;\n",
              "    }\n",
              "\n",
              "    .colab-df-buttons div {\n",
              "      margin-bottom: 4px;\n",
              "    }\n",
              "\n",
              "    [theme=dark] .colab-df-convert {\n",
              "      background-color: #3B4455;\n",
              "      fill: #D2E3FC;\n",
              "    }\n",
              "\n",
              "    [theme=dark] .colab-df-convert:hover {\n",
              "      background-color: #434B5C;\n",
              "      box-shadow: 0px 1px 3px 1px rgba(0, 0, 0, 0.15);\n",
              "      filter: drop-shadow(0px 1px 2px rgba(0, 0, 0, 0.3));\n",
              "      fill: #FFFFFF;\n",
              "    }\n",
              "  </style>\n",
              "\n",
              "    <script>\n",
              "      const buttonEl =\n",
              "        document.querySelector('#df-6abc1585-0c98-402f-9d48-428a960edade button.colab-df-convert');\n",
              "      buttonEl.style.display =\n",
              "        google.colab.kernel.accessAllowed ? 'block' : 'none';\n",
              "\n",
              "      async function convertToInteractive(key) {\n",
              "        const element = document.querySelector('#df-6abc1585-0c98-402f-9d48-428a960edade');\n",
              "        const dataTable =\n",
              "          await google.colab.kernel.invokeFunction('convertToInteractive',\n",
              "                                                    [key], {});\n",
              "        if (!dataTable) return;\n",
              "\n",
              "        const docLinkHtml = 'Like what you see? Visit the ' +\n",
              "          '<a target=\"_blank\" href=https://colab.research.google.com/notebooks/data_table.ipynb>data table notebook</a>'\n",
              "          + ' to learn more about interactive tables.';\n",
              "        element.innerHTML = '';\n",
              "        dataTable['output_type'] = 'display_data';\n",
              "        await google.colab.output.renderOutput(dataTable, element);\n",
              "        const docLink = document.createElement('div');\n",
              "        docLink.innerHTML = docLinkHtml;\n",
              "        element.appendChild(docLink);\n",
              "      }\n",
              "    </script>\n",
              "  </div>\n",
              "\n",
              "\n",
              "<div id=\"df-88919ee5-d48f-4d13-9ca0-c27888afd541\">\n",
              "  <button class=\"colab-df-quickchart\" onclick=\"quickchart('df-88919ee5-d48f-4d13-9ca0-c27888afd541')\"\n",
              "            title=\"Suggest charts\"\n",
              "            style=\"display:none;\">\n",
              "\n",
              "<svg xmlns=\"http://www.w3.org/2000/svg\" height=\"24px\"viewBox=\"0 0 24 24\"\n",
              "     width=\"24px\">\n",
              "    <g>\n",
              "        <path d=\"M19 3H5c-1.1 0-2 .9-2 2v14c0 1.1.9 2 2 2h14c1.1 0 2-.9 2-2V5c0-1.1-.9-2-2-2zM9 17H7v-7h2v7zm4 0h-2V7h2v10zm4 0h-2v-4h2v4z\"/>\n",
              "    </g>\n",
              "</svg>\n",
              "  </button>\n",
              "\n",
              "<style>\n",
              "  .colab-df-quickchart {\n",
              "      --bg-color: #E8F0FE;\n",
              "      --fill-color: #1967D2;\n",
              "      --hover-bg-color: #E2EBFA;\n",
              "      --hover-fill-color: #174EA6;\n",
              "      --disabled-fill-color: #AAA;\n",
              "      --disabled-bg-color: #DDD;\n",
              "  }\n",
              "\n",
              "  [theme=dark] .colab-df-quickchart {\n",
              "      --bg-color: #3B4455;\n",
              "      --fill-color: #D2E3FC;\n",
              "      --hover-bg-color: #434B5C;\n",
              "      --hover-fill-color: #FFFFFF;\n",
              "      --disabled-bg-color: #3B4455;\n",
              "      --disabled-fill-color: #666;\n",
              "  }\n",
              "\n",
              "  .colab-df-quickchart {\n",
              "    background-color: var(--bg-color);\n",
              "    border: none;\n",
              "    border-radius: 50%;\n",
              "    cursor: pointer;\n",
              "    display: none;\n",
              "    fill: var(--fill-color);\n",
              "    height: 32px;\n",
              "    padding: 0;\n",
              "    width: 32px;\n",
              "  }\n",
              "\n",
              "  .colab-df-quickchart:hover {\n",
              "    background-color: var(--hover-bg-color);\n",
              "    box-shadow: 0 1px 2px rgba(60, 64, 67, 0.3), 0 1px 3px 1px rgba(60, 64, 67, 0.15);\n",
              "    fill: var(--button-hover-fill-color);\n",
              "  }\n",
              "\n",
              "  .colab-df-quickchart-complete:disabled,\n",
              "  .colab-df-quickchart-complete:disabled:hover {\n",
              "    background-color: var(--disabled-bg-color);\n",
              "    fill: var(--disabled-fill-color);\n",
              "    box-shadow: none;\n",
              "  }\n",
              "\n",
              "  .colab-df-spinner {\n",
              "    border: 2px solid var(--fill-color);\n",
              "    border-color: transparent;\n",
              "    border-bottom-color: var(--fill-color);\n",
              "    animation:\n",
              "      spin 1s steps(1) infinite;\n",
              "  }\n",
              "\n",
              "  @keyframes spin {\n",
              "    0% {\n",
              "      border-color: transparent;\n",
              "      border-bottom-color: var(--fill-color);\n",
              "      border-left-color: var(--fill-color);\n",
              "    }\n",
              "    20% {\n",
              "      border-color: transparent;\n",
              "      border-left-color: var(--fill-color);\n",
              "      border-top-color: var(--fill-color);\n",
              "    }\n",
              "    30% {\n",
              "      border-color: transparent;\n",
              "      border-left-color: var(--fill-color);\n",
              "      border-top-color: var(--fill-color);\n",
              "      border-right-color: var(--fill-color);\n",
              "    }\n",
              "    40% {\n",
              "      border-color: transparent;\n",
              "      border-right-color: var(--fill-color);\n",
              "      border-top-color: var(--fill-color);\n",
              "    }\n",
              "    60% {\n",
              "      border-color: transparent;\n",
              "      border-right-color: var(--fill-color);\n",
              "    }\n",
              "    80% {\n",
              "      border-color: transparent;\n",
              "      border-right-color: var(--fill-color);\n",
              "      border-bottom-color: var(--fill-color);\n",
              "    }\n",
              "    90% {\n",
              "      border-color: transparent;\n",
              "      border-bottom-color: var(--fill-color);\n",
              "    }\n",
              "  }\n",
              "</style>\n",
              "\n",
              "  <script>\n",
              "    async function quickchart(key) {\n",
              "      const quickchartButtonEl =\n",
              "        document.querySelector('#' + key + ' button');\n",
              "      quickchartButtonEl.disabled = true;  // To prevent multiple clicks.\n",
              "      quickchartButtonEl.classList.add('colab-df-spinner');\n",
              "      try {\n",
              "        const charts = await google.colab.kernel.invokeFunction(\n",
              "            'suggestCharts', [key], {});\n",
              "      } catch (error) {\n",
              "        console.error('Error during call to suggestCharts:', error);\n",
              "      }\n",
              "      quickchartButtonEl.classList.remove('colab-df-spinner');\n",
              "      quickchartButtonEl.classList.add('colab-df-quickchart-complete');\n",
              "    }\n",
              "    (() => {\n",
              "      let quickchartButtonEl =\n",
              "        document.querySelector('#df-88919ee5-d48f-4d13-9ca0-c27888afd541 button');\n",
              "      quickchartButtonEl.style.display =\n",
              "        google.colab.kernel.accessAllowed ? 'block' : 'none';\n",
              "    })();\n",
              "  </script>\n",
              "</div>\n",
              "    </div>\n",
              "  </div>\n"
            ],
            "application/vnd.google.colaboratory.intrinsic+json": {
              "type": "dataframe",
              "variable_name": "df",
              "summary": "{\n  \"name\": \"df\",\n  \"rows\": 12473,\n  \"fields\": [\n    {\n      \"column\": \"doc_id\",\n      \"properties\": {\n        \"dtype\": \"string\",\n        \"num_unique_values\": 12473,\n        \"samples\": [\n          \"recette_169081.xml\",\n          \"recette_56542.xml\",\n          \"recette_90821.xml\"\n        ],\n        \"semantic_type\": \"\",\n        \"description\": \"\"\n      }\n    },\n    {\n      \"column\": \"titre\",\n      \"properties\": {\n        \"dtype\": \"string\",\n        \"num_unique_values\": 12438,\n        \"samples\": [\n          \"Quiche saumon champignons\",\n          \"Quiche aux oignons fondants et ch\\u00e8vre de Sylvia\",\n          \"Tarte aux coeurs d'artichaut\"\n        ],\n        \"semantic_type\": \"\",\n        \"description\": \"\"\n      }\n    },\n    {\n      \"column\": \"type\",\n      \"properties\": {\n        \"dtype\": \"category\",\n        \"num_unique_values\": 3,\n        \"samples\": [\n          \"Plat principal\",\n          \"Entr\\u00e9e\",\n          \"Dessert\"\n        ],\n        \"semantic_type\": \"\",\n        \"description\": \"\"\n      }\n    },\n    {\n      \"column\": \"difficulte\",\n      \"properties\": {\n        \"dtype\": \"category\",\n        \"num_unique_values\": 4,\n        \"samples\": [\n          \"Tr\\u00e8s facile\",\n          \"Difficile\",\n          \"Facile\"\n        ],\n        \"semantic_type\": \"\",\n        \"description\": \"\"\n      }\n    },\n    {\n      \"column\": \"cout\",\n      \"properties\": {\n        \"dtype\": \"category\",\n        \"num_unique_values\": 3,\n        \"samples\": [\n          \"Moyen\",\n          \"Bon march\\u00e9\",\n          \"Assez Cher\"\n        ],\n        \"semantic_type\": \"\",\n        \"description\": \"\"\n      }\n    },\n    {\n      \"column\": \"ingredients\",\n      \"properties\": {\n        \"dtype\": \"string\",\n        \"num_unique_values\": 12473,\n        \"samples\": [\n          \"- 3 beaux poireaux - 100 \\u00e0 150 g de saumon fum\\u00e9 (selon les go\\u00fbts) - 2 cuill\\u00e8res \\u00e0 soupe de fromage Philadelphia - 10 \\u00e0 15 cl de cr\\u00e8me liquide - 1 rouleau de p\\u00e2te bris\\u00e9e - une noix de beurre pour la cuisson - 50 g d'emmental r\\u00e2p\\u00e9\",\n          \"- 10 pommes de terre - 10 tranches lard d\\u00e9taill\\u00e9 en lardons (ou 150 g de lardons) - 400 g de champignons - 200 g de fromage de ch\\u00e8vre (1 b\\u00fbche) - 20-30 cl de cr\\u00e8me fra\\u00eeche - basilic - poivre\",\n          \"- 450 g de fraises - 30 biscuits cuillers - 500 g de cr\\u00e8me fra\\u00eeche enti\\u00e8re en brique bien froide(\\u00e0 monter en chantilly) - 100 g de sucre (glace ou poudre) - 20 cl de sirop de canne\"\n        ],\n        \"semantic_type\": \"\",\n        \"description\": \"\"\n      }\n    },\n    {\n      \"column\": \"recette\",\n      \"properties\": {\n        \"dtype\": \"string\",\n        \"num_unique_values\": 12473,\n        \"samples\": [\n          \"Faire cuire \\u00e0 blanc la p\\u00e2te bris\\u00e9e : 5 \\u00e0 7 minutes \\u00e0 200\\u00b0C. (Pour \\u00e9viter que la p\\u00e2te ne gonfle, y disposer des haricots secs ; des p\\u00e2tes telles que celles en forme de papillon feront \\u00e9galement l'affaire).Pendant ce temps, pr\\u00e9parer les poireaux : couper la partie verte et ne garder que le blanc. Couper \\u00e9galement le bout terreux. Inciser tout en longueur les poireaux, les rincer sous l'eau, les \\u00e9goutter dans du papier absorbant et les d\\u00e9couper en petits morceaux. La quantit\\u00e9 va beaucoup r\\u00e9duire lors de la cuisson. Les mettre dans une po\\u00eale \\u00e0 feu doux avec une noix de beurre, pour qu'ils blanchissent et fondent. Ils sont pr\\u00eats lorsqu'ils ne paraissent plus croquants, mais bien fondants (\\u00e9viter qu'ils ne caram\\u00e9lisent trop). En fin de cuisson ajouter dans la po\\u00eale les tranches de saumon fum\\u00e9 coup\\u00e9es en lamelles, jusqu'\\u00e0 ce qu'elles cuisent (2 \\u00e0 3 minutes). Enfin, dans une jatte, battre \\u00e9nergiquement le Philadelphia avec la cr\\u00e8me liquide. R\\u00e9partir le m\\u00e9lange poireaux-saumon sur la p\\u00e2te bris\\u00e9e et y verser le m\\u00e9lange Philadelphia-cr\\u00e8me liquide. Parsemer d'emmental r\\u00e2p\\u00e9 et enfourner 15 \\u00e0 20 minutes selon le four, jusqu'\\u00e0 ce que le dessus soit gratin\\u00e9.Pour ma part, je n'ai ajout\\u00e9 ni sel ni poivre, car le saumon est suffisamment sal\\u00e9 pour donner go\\u00fbt au plat.Le Philadelphia apporte une touche cr\\u00e9meuse \\u00e0 cette tarte, fondante en bouche.S'il vous reste de la garniture, vous pouvez tr\\u00e8s bien l'accommoder le lendemain avec des p\\u00e2tes et de la cr\\u00e8me fra\\u00eeche par exemple.\",\n          \"Cuire les pommes de terre \\u00e0 l'eau bouillante. Faire revenir les champignons \\u00e9minc\\u00e9s et les lardons \\u00e0 la po\\u00eale. Une fois les pommes de terre cuites et refroidies, les couper en fines tranches. Dans un plat pour le four, \\u00e9taler une premi\\u00e8re couche de pommes de terre. Recouvrir de la moiti\\u00e9 des champignons, la moiti\\u00e9 des lardons et de fromage de ch\\u00e8vre coup\\u00e9 en rondelles. Arroser le tout de cr\\u00e8me fra\\u00eeche. R\\u00e9p\\u00e9ter l'op\\u00e9ration une seconde fois. Soupoudrer le tout de basilic, poivrer et mettre au four \\u00e0 180\\u00b0C (thermostat 6) pour 30 minutes.\",\n          \"Mettre au cong\\u00e9lateur pendant 30 minutes mini les fouets, le r\\u00e9cipient qui serviront \\u00e0 monter la cr\\u00e8me en chantilly. Essuyer, \\u00e9queuter et couper en 4 les fraises. Verser le sirop de canne dans un assiette creuse et y passer chaque biscuit sur les 2 faces. Tapisser le moule \\u00e0 charlotte (les c\\u00f4t\\u00e9s et le fond) des biscuits imbib\\u00e9s de sucre de canne, s'ils d\\u00e9passent, ils peuvent \\u00eatre coup\\u00e9s et les morceaux coup\\u00e9s utilis\\u00e9s pour le fond de la charlotte. Monter la cr\\u00e8me fra\\u00eeche en chantilly et ajouter petit \\u00e0 petit le sucre. Mettre une bonne couche de chantilly par-dessus les biscuits puis une couche de fraises. Remettre une couche de biscuits cuillers pass\\u00e9s au sirop de canne puis \\u00e0 nouveau chantilly et fraises en terminant par une derni\\u00e8re couche de biscuits cuillers au sirop de canne. Une fois le couvercle ferm\\u00e9, mettre au r\\u00e9frig\\u00e9rateur pendant plusieurs heures (id\\u00e9alement faire la veille) avec un poids par dessus.\"\n        ],\n        \"semantic_type\": \"\",\n        \"description\": \"\"\n      }\n    }\n  ]\n}"
            }
          },
          "metadata": {},
          "execution_count": 162
        }
      ],
      "source": [
        "df = pd.read_csv('/content/drive/MyDrive/my_data.csv')\n",
        "df.head(5)\n"
      ]
    },
    {
      "cell_type": "code",
      "source": [
        "df.isna().sum"
      ],
      "metadata": {
        "colab": {
          "base_uri": "https://localhost:8080/",
          "height": 187
        },
        "id": "k5MlDdzDQrdf",
        "outputId": "a0e67b7d-4b39-4d3f-c60a-aa7ce22a42ae"
      },
      "execution_count": 163,
      "outputs": [
        {
          "output_type": "execute_result",
          "data": {
            "text/plain": [
              "<bound method NDFrame._add_numeric_operations.<locals>.sum of        doc_id  titre   type  difficulte   cout  ingredients  recette\n",
              "0       False  False  False       False  False        False    False\n",
              "1       False  False  False       False  False        False    False\n",
              "2       False  False  False       False  False        False    False\n",
              "3       False  False  False       False  False        False    False\n",
              "4       False  False  False       False  False        False    False\n",
              "...       ...    ...    ...         ...    ...          ...      ...\n",
              "12468   False  False  False       False  False        False    False\n",
              "12469   False  False  False       False  False        False    False\n",
              "12470   False  False  False       False  False        False    False\n",
              "12471   False  False  False       False  False        False    False\n",
              "12472   False  False  False       False  False        False    False\n",
              "\n",
              "[12473 rows x 7 columns]>"
            ],
            "text/html": [
              "<div style=\"max-width:800px; border: 1px solid var(--colab-border-color);\"><style>\n",
              "      pre.function-repr-contents {\n",
              "        overflow-x: auto;\n",
              "        padding: 8px 12px;\n",
              "        max-height: 500px;\n",
              "      }\n",
              "\n",
              "      pre.function-repr-contents.function-repr-contents-collapsed {\n",
              "        cursor: pointer;\n",
              "        max-height: 100px;\n",
              "      }\n",
              "    </style>\n",
              "    <pre style=\"white-space: initial; background:\n",
              "         var(--colab-secondary-surface-color); padding: 8px 12px;\n",
              "         border-bottom: 1px solid var(--colab-border-color);\"><b>pandas.core.generic.NDFrame._add_numeric_operations.&lt;locals&gt;.sum</b><br/>def sum(axis=None, skipna=True, level=None, numeric_only=None, min_count=0, **kwargs)</pre><pre class=\"function-repr-contents function-repr-contents-collapsed\" style=\"\"><a class=\"filepath\" style=\"display:none\" href=\"#\">/usr/local/lib/python3.10/dist-packages/pandas/core/generic.py</a>Return the sum of the values over the requested axis.\n",
              "\n",
              "This is equivalent to the method ``numpy.sum``.\n",
              "\n",
              "Parameters\n",
              "----------\n",
              "axis : {index (0), columns (1)}\n",
              "    Axis for the function to be applied on.\n",
              "    For `Series` this parameter is unused and defaults to 0.\n",
              "skipna : bool, default True\n",
              "    Exclude NA/null values when computing the result.\n",
              "level : int or level name, default None\n",
              "    If the axis is a MultiIndex (hierarchical), count along a\n",
              "    particular level, collapsing into a Series.\n",
              "\n",
              "    .. deprecated:: 1.3.0\n",
              "        The level keyword is deprecated. Use groupby instead.\n",
              "numeric_only : bool, default None\n",
              "    Include only float, int, boolean columns. If None, will attempt to use\n",
              "    everything, then use only numeric data. Not implemented for Series.\n",
              "\n",
              "    .. deprecated:: 1.5.0\n",
              "        Specifying ``numeric_only=None`` is deprecated. The default value will be\n",
              "        ``False`` in a future version of pandas.\n",
              "\n",
              "min_count : int, default 0\n",
              "    The required number of valid values to perform the operation. If fewer than\n",
              "    ``min_count`` non-NA values are present the result will be NA.\n",
              "**kwargs\n",
              "    Additional keyword arguments to be passed to the function.\n",
              "\n",
              "Returns\n",
              "-------\n",
              "Series or DataFrame (if level specified)\n",
              "\n",
              "See Also\n",
              "--------\n",
              "Series.sum : Return the sum.\n",
              "Series.min : Return the minimum.\n",
              "Series.max : Return the maximum.\n",
              "Series.idxmin : Return the index of the minimum.\n",
              "Series.idxmax : Return the index of the maximum.\n",
              "DataFrame.sum : Return the sum over the requested axis.\n",
              "DataFrame.min : Return the minimum over the requested axis.\n",
              "DataFrame.max : Return the maximum over the requested axis.\n",
              "DataFrame.idxmin : Return the index of the minimum over the requested axis.\n",
              "DataFrame.idxmax : Return the index of the maximum over the requested axis.\n",
              "\n",
              "Examples\n",
              "--------\n",
              "&gt;&gt;&gt; idx = pd.MultiIndex.from_arrays([\n",
              "...     [&#x27;warm&#x27;, &#x27;warm&#x27;, &#x27;cold&#x27;, &#x27;cold&#x27;],\n",
              "...     [&#x27;dog&#x27;, &#x27;falcon&#x27;, &#x27;fish&#x27;, &#x27;spider&#x27;]],\n",
              "...     names=[&#x27;blooded&#x27;, &#x27;animal&#x27;])\n",
              "&gt;&gt;&gt; s = pd.Series([4, 2, 0, 8], name=&#x27;legs&#x27;, index=idx)\n",
              "&gt;&gt;&gt; s\n",
              "blooded  animal\n",
              "warm     dog       4\n",
              "         falcon    2\n",
              "cold     fish      0\n",
              "         spider    8\n",
              "Name: legs, dtype: int64\n",
              "\n",
              "&gt;&gt;&gt; s.sum()\n",
              "14\n",
              "\n",
              "By default, the sum of an empty or all-NA Series is ``0``.\n",
              "\n",
              "&gt;&gt;&gt; pd.Series([], dtype=&quot;float64&quot;).sum()  # min_count=0 is the default\n",
              "0.0\n",
              "\n",
              "This can be controlled with the ``min_count`` parameter. For example, if\n",
              "you&#x27;d like the sum of an empty series to be NaN, pass ``min_count=1``.\n",
              "\n",
              "&gt;&gt;&gt; pd.Series([], dtype=&quot;float64&quot;).sum(min_count=1)\n",
              "nan\n",
              "\n",
              "Thanks to the ``skipna`` parameter, ``min_count`` handles all-NA and\n",
              "empty series identically.\n",
              "\n",
              "&gt;&gt;&gt; pd.Series([np.nan]).sum()\n",
              "0.0\n",
              "\n",
              "&gt;&gt;&gt; pd.Series([np.nan]).sum(min_count=1)\n",
              "nan</pre>\n",
              "      <script>\n",
              "      if (google.colab.kernel.accessAllowed && google.colab.files && google.colab.files.view) {\n",
              "        for (const element of document.querySelectorAll('.filepath')) {\n",
              "          element.style.display = 'block'\n",
              "          element.onclick = (event) => {\n",
              "            event.preventDefault();\n",
              "            event.stopPropagation();\n",
              "            google.colab.files.view(element.textContent, 11777);\n",
              "          };\n",
              "        }\n",
              "      }\n",
              "      for (const element of document.querySelectorAll('.function-repr-contents')) {\n",
              "        element.onclick = (event) => {\n",
              "          event.preventDefault();\n",
              "          event.stopPropagation();\n",
              "          element.classList.toggle('function-repr-contents-collapsed');\n",
              "        };\n",
              "      }\n",
              "      </script>\n",
              "      </div>"
            ]
          },
          "metadata": {},
          "execution_count": 163
        }
      ]
    },
    {
      "cell_type": "code",
      "execution_count": 164,
      "metadata": {
        "colab": {
          "base_uri": "https://localhost:8080/"
        },
        "id": "ALSOxj36wciP",
        "outputId": "4ede0a84-940d-4684-e281-be16bd4e865f"
      },
      "outputs": [
        {
          "output_type": "execute_result",
          "data": {
            "text/plain": [
              "(9978, 2495)"
            ]
          },
          "metadata": {},
          "execution_count": 164
        }
      ],
      "source": [
        "validation_size = 0.2  # 20% pour la validation, 80% pour l'entraînement\n",
        "\n",
        "# Séparation des données en ensembles d'entraînement et de validation\n",
        "train_data, validation_data = train_test_split(df, test_size=validation_size, random_state=42)\n",
        "\n",
        "train_size = len(train_data)\n",
        "validation_size = len(validation_data)\n",
        "\n",
        "(train_size, validation_size)"
      ]
    },
    {
      "cell_type": "code",
      "execution_count": 165,
      "metadata": {
        "colab": {
          "base_uri": "https://localhost:8080/"
        },
        "id": "paGrcc7VyxmF",
        "outputId": "9e65ea17-e69d-4d9a-e728-e09fe9ceb110"
      },
      "outputs": [
        {
          "output_type": "execute_result",
          "data": {
            "text/plain": [
              "('/content/drive/MyDrive/train_data.csv',\n",
              " '/content/drive/MyDrive/validation_data.csv')"
            ]
          },
          "metadata": {},
          "execution_count": 165
        }
      ],
      "source": [
        "# Sauvegarde des ensembles d'entraînement et de validation en fichiers CSV\n",
        "train_data_path = '/content/drive/MyDrive/train_data.csv'\n",
        "validation_data_path = '/content/drive/MyDrive/validation_data.csv'\n",
        "\n",
        "train_data.to_csv(train_data_path, index=False)\n",
        "validation_data.to_csv(validation_data_path, index=False)\n",
        "\n",
        "(train_data_path, validation_data_path)"
      ]
    },
    {
      "cell_type": "code",
      "source": [
        "import matplotlib.pyplot as plt\n",
        "import seaborn as sns"
      ],
      "metadata": {
        "id": "rOLwL-D8rgyG"
      },
      "execution_count": 166,
      "outputs": []
    },
    {
      "cell_type": "code",
      "source": [
        "# visualisation de la matrice de confusion\n",
        "\n",
        "def plot_confusion_matrix(conf_matrix, class_names):\n",
        "    # Transforme la matrice de confusion en DataFrame pour une meilleure visualisation avec Seaborn\n",
        "    conf_matrix_df = pd.DataFrame(conf_matrix, index=class_names, columns=class_names)\n",
        "\n",
        "    # Crée un heatmap de Seaborn avec les valeurs de la matrice de confusion\n",
        "    plt.figure(figsize=(4,3))\n",
        "    sns.heatmap(conf_matrix_df, annot=True, fmt='g', cmap='Blues', cbar=False)\n",
        "    plt.title('Matrice de Confusion')\n",
        "    plt.ylabel('Vraies classes')\n",
        "    plt.xlabel('Classes prédites')\n",
        "    plt.show()\n"
      ],
      "metadata": {
        "id": "SaDYStVWrQSX"
      },
      "execution_count": 167,
      "outputs": []
    },
    {
      "cell_type": "markdown",
      "metadata": {
        "id": "At428JreEWka"
      },
      "source": [
        "# Baseline Classe Majoritaire"
      ]
    },
    {
      "cell_type": "code",
      "execution_count": 168,
      "metadata": {
        "colab": {
          "base_uri": "https://localhost:8080/",
          "height": 701
        },
        "id": "kIyVmEUiy1ZE",
        "outputId": "7bd12a19-8c3d-459c-eb4a-7df17103ad8a"
      },
      "outputs": [
        {
          "output_type": "stream",
          "name": "stdout",
          "text": [
            "Baseline\n"
          ]
        },
        {
          "output_type": "stream",
          "name": "stderr",
          "text": [
            "/usr/local/lib/python3.10/dist-packages/sklearn/metrics/_classification.py:1344: UndefinedMetricWarning: Precision and F-score are ill-defined and being set to 0.0 in labels with no predicted samples. Use `zero_division` parameter to control this behavior.\n",
            "  _warn_prf(average, modifier, msg_start, len(result))\n",
            "/usr/local/lib/python3.10/dist-packages/sklearn/metrics/_classification.py:1344: UndefinedMetricWarning: Precision and F-score are ill-defined and being set to 0.0 in labels with no predicted samples. Use `zero_division` parameter to control this behavior.\n",
            "  _warn_prf(average, modifier, msg_start, len(result))\n",
            "/usr/local/lib/python3.10/dist-packages/sklearn/metrics/_classification.py:1344: UndefinedMetricWarning: Precision and F-score are ill-defined and being set to 0.0 in labels with no predicted samples. Use `zero_division` parameter to control this behavior.\n",
            "  _warn_prf(average, modifier, msg_start, len(result))\n"
          ]
        },
        {
          "output_type": "stream",
          "name": "stdout",
          "text": [
            "                precision    recall  f1-score   support\n",
            "\n",
            "       Dessert       0.00      0.00      0.00       726\n",
            "        Entrée       0.00      0.00      0.00       611\n",
            "Plat principal       0.46      1.00      0.63      1158\n",
            "\n",
            "      accuracy                           0.46      2495\n",
            "     macro avg       0.15      0.33      0.21      2495\n",
            "  weighted avg       0.22      0.46      0.29      2495\n",
            "\n",
            "\n",
            "\n"
          ]
        },
        {
          "output_type": "display_data",
          "data": {
            "text/plain": [
              "<Figure size 400x300 with 1 Axes>"
            ],
            "image/png": "[encoded data removed]"
          },
          "metadata": {}
        }
      ],
      "source": [
        "\n",
        "def Classe_Majoritaire(train_data_path, validation_data_path):\n",
        "\n",
        "    train_data = pd.read_csv(train_data_path)\n",
        "    validation_data = pd.read_csv(validation_data_path)\n",
        "\n",
        "    y_train = train_data['type']\n",
        "    y_validation = validation_data['type']\n",
        "\n",
        "    # Création du modèle DummyClassifier avec la stratégie 'most_frequent'\n",
        "    dummy_clf = DummyClassifier(strategy=\"most_frequent\")\n",
        "\n",
        "    # Entraînement du modèle sur l'ensemble d'entraînement\n",
        "    dummy_clf.fit([0] * len(y_train), y_train)\n",
        "\n",
        "    # Prédictions sur l'ensemble de validation\n",
        "    y_pred_validation = dummy_clf.predict([0] * len(y_validation))\n",
        "\n",
        "    # Évaluation de la baseline\n",
        "    report = classification_report(y_validation, y_pred_validation)\n",
        "    conf_matrix = confusion_matrix(y_validation, y_pred_validation)\n",
        "\n",
        "    return report,conf_matrix\n",
        "\n",
        "print('Baseline')\n",
        "report,conf_matrix = Classe_Majoritaire(train_data_path, validation_data_path)\n",
        "print(report)\n",
        "print(\"\\n\")\n",
        "class_names = ['Dessert', 'Entrée', 'Plat principal']\n",
        "plot_confusion_matrix(conf_matrix, class_names)"
      ]
    },
    {
      "cell_type": "code",
      "source": [
        "test_filepath = '/content/drive/MyDrive/test_data.csv'"
      ],
      "metadata": {
        "id": "frCF8d6vOWGI"
      },
      "execution_count": 169,
      "outputs": []
    },
    {
      "cell_type": "code",
      "source": [
        "# Fonction pour charger et préparer le dataset\n",
        "def load_and_prepare_data(filepath):\n",
        "    df = pd.read_csv(filepath)\n",
        "\n",
        "    df['text'] = df['titre'] + ' ' + df['ingredients'] + ' ' + df['recette'] # + ' ' + df['difficulte'] + ' ' + df['cout']\n",
        "\n",
        "    return df['text'], df['type']\n"
      ],
      "metadata": {
        "id": "5nqty-22IIvV"
      },
      "execution_count": 170,
      "outputs": []
    },
    {
      "cell_type": "markdown",
      "metadata": {
        "id": "YogX2euzIfSZ"
      },
      "source": [
        "\n",
        "\n",
        "# **Bag Of Words**"
      ]
    },
    {
      "cell_type": "code",
      "execution_count": 171,
      "metadata": {
        "colab": {
          "base_uri": "https://localhost:8080/",
          "height": 553
        },
        "id": "lWKMtUjZ-NZy",
        "outputId": "0f4f827e-8ce1-4e90-bb8f-25f5b563e868"
      },
      "outputs": [
        {
          "output_type": "stream",
          "name": "stdout",
          "text": [
            "Accuracy: 0.84\n",
            "Classification Report:\n",
            "                 precision    recall  f1-score   support\n",
            "\n",
            "       Dessert       0.98      1.00      0.99       726\n",
            "        Entrée       0.69      0.68      0.68       611\n",
            "Plat principal       0.84      0.84      0.84      1158\n",
            "\n",
            "      accuracy                           0.84      2495\n",
            "     macro avg       0.84      0.84      0.84      2495\n",
            "  weighted avg       0.84      0.84      0.84      2495\n",
            "\n"
          ]
        },
        {
          "output_type": "display_data",
          "data": {
            "text/plain": [
              "<Figure size 400x300 with 1 Axes>"
            ],
            "image/png": "[encoded data removed]"
          },
          "metadata": {}
        }
      ],
      "source": [
        "\n",
        "# Fonction pour vectoriser les données textuelles\n",
        "def vectorize_text(X_train, X_dev):\n",
        "    vectorizer = CountVectorizer()\n",
        "    X_train_vec = vectorizer.fit_transform(X_train)\n",
        "    X_dev_vec = vectorizer.transform(X_dev)\n",
        "    return X_train_vec, X_dev_vec, vectorizer\n",
        "\n",
        "# Fonction pour entraîner le modèle\n",
        "def train_model(X_train_vec, y_train):\n",
        "    classifier = MultinomialNB()\n",
        "    classifier.fit(X_train_vec, y_train)\n",
        "    return classifier\n",
        "\n",
        "\n",
        "# Fonction pour évaluer le modèle\n",
        "def evaluate_model(classifier, X_dev_vec, y_dev):\n",
        "    y_pred = classifier.predict(X_dev_vec)\n",
        "    accuracy = accuracy_score(y_dev, y_pred)\n",
        "    report = classification_report(y_dev, y_pred)\n",
        "    conf_matrix = confusion_matrix(y_dev,y_pred)\n",
        "\n",
        "    return accuracy, report, conf_matrix\n",
        "\n",
        "\n",
        "def main(train_filepath, dev_filepath):\n",
        "\n",
        "    X_train, y_train = load_and_prepare_data(train_filepath)\n",
        "    X_dev, y_dev = load_and_prepare_data(dev_filepath)\n",
        "\n",
        "    X_train_vec, X_dev_vec, vectorizer = vectorize_text(X_train, X_dev)\n",
        "\n",
        "    classifier = train_model(X_train_vec, y_train)\n",
        "\n",
        "    accuracy, report,conf_matrix = evaluate_model(classifier, X_dev_vec, y_dev)\n",
        "\n",
        "\n",
        "    joblib.dump(classifier, 'classifier1.joblib')\n",
        "    joblib.dump(vectorizer, 'vectorizer1.joblib')\n",
        "\n",
        "    # Afficher les résultats\n",
        "    print(f\"Accuracy: {accuracy:.2f}\")\n",
        "    print(\"Classification Report:\\n\", report)\n",
        "    # Afficher la matrice de confusion\n",
        "    class_names = ['Dessert', 'Entrée', 'Plat principal']\n",
        "    plot_confusion_matrix(conf_matrix, class_names)\n",
        "\n",
        "if __name__ == \"__main__\":\n",
        "    main(train_data_path,validation_data_path)\n",
        "\n"
      ]
    },
    {
      "cell_type": "code",
      "execution_count": 172,
      "metadata": {
        "colab": {
          "base_uri": "https://localhost:8080/",
          "height": 571
        },
        "id": "yF_olQ405ZNg",
        "outputId": "7e81afbc-0327-43f3-caef-066032ab5adf"
      },
      "outputs": [
        {
          "output_type": "stream",
          "name": "stdout",
          "text": [
            "Bag Of Word\n",
            "Test Accuracy: 0.86\n",
            "Test Classification Report:\n",
            "                 precision    recall  f1-score   support\n",
            "\n",
            "       Dessert       0.97      1.00      0.99       407\n",
            "        Entrée       0.71      0.74      0.73       337\n",
            "Plat principal       0.87      0.84      0.86       644\n",
            "\n",
            "      accuracy                           0.86      1388\n",
            "     macro avg       0.85      0.86      0.86      1388\n",
            "  weighted avg       0.86      0.86      0.86      1388\n",
            "\n"
          ]
        },
        {
          "output_type": "display_data",
          "data": {
            "text/plain": [
              "<Figure size 400x300 with 1 Axes>"
            ],
            "image/png": "[encoded data removed]"
          },
          "metadata": {}
        }
      ],
      "source": [
        "def test_model(test_filepath):\n",
        "\n",
        "    classifier = joblib.load('classifier1.joblib')\n",
        "    vectorizer = joblib.load('vectorizer1.joblib')\n",
        "\n",
        "    X_test, y_test = load_and_prepare_data(test_filepath)\n",
        "    X_test_vec = vectorizer.transform(X_test)\n",
        "\n",
        "    accuracy, report,conf_matrix = evaluate_model(classifier, X_test_vec, y_test)\n",
        "\n",
        "    print(f\"Test Accuracy: {accuracy:.2f}\")\n",
        "    print(\"Test Classification Report:\\n\", report)\n",
        "    class_names = ['Dessert', 'Entrée', 'Plat principal']\n",
        "    plot_confusion_matrix(conf_matrix, class_names)\n",
        "\n",
        "if __name__ == \"__main__\":\n",
        "    print('Bag Of Word')\n",
        "    test_model(test_filepath)\n"
      ]
    },
    {
      "cell_type": "markdown",
      "metadata": {
        "id": "IhaWGcwTIZ1p"
      },
      "source": [
        "# **TF_IDF**"
      ]
    },
    {
      "cell_type": "code",
      "execution_count": 173,
      "metadata": {
        "colab": {
          "base_uri": "https://localhost:8080/",
          "height": 608
        },
        "id": "okbOwXm-8kwm",
        "outputId": "a2948ad8-f9c8-4e23-9e5d-97ae1c994912"
      },
      "outputs": [
        {
          "output_type": "stream",
          "name": "stdout",
          "text": [
            "TF-IDF\n",
            "Accuracy: 0.87\n",
            "Classification Report:\n",
            "                 precision    recall  f1-score   support\n",
            "\n",
            "       Dessert       0.98      1.00      0.99       726\n",
            "        Entrée       0.77      0.66      0.71       611\n",
            "Plat principal       0.84      0.89      0.86      1158\n",
            "\n",
            "      accuracy                           0.87      2495\n",
            "     macro avg       0.86      0.85      0.85      2495\n",
            "  weighted avg       0.86      0.87      0.86      2495\n",
            "\n",
            "\n",
            "\n"
          ]
        },
        {
          "output_type": "display_data",
          "data": {
            "text/plain": [
              "<Figure size 400x300 with 1 Axes>"
            ],
            "image/png": "[encoded data removed]"
          },
          "metadata": {}
        }
      ],
      "source": [
        "from sklearn.svm import SVC\n",
        "\n",
        "print('TF-IDF')\n",
        "\n",
        "def main(train_filepath, dev_filepath):\n",
        "    # Charger les données d'entraînement\n",
        "    X_train, y_train = load_and_prepare_data(train_filepath)\n",
        "\n",
        "    # Charger les données de développement\n",
        "    X_dev, y_dev = load_and_prepare_data(dev_filepath)\n",
        "\n",
        "    # Calculer les vecteurs TF-IDF pour les ensembles d'entraînement et de développement\n",
        "    vectorizer = TfidfVectorizer(max_features=3000)\n",
        "    X_train_tfidf = vectorizer.fit_transform(X_train)\n",
        "    X_dev_tfidf = vectorizer.transform(X_dev)\n",
        "\n",
        "    # Entraîner le modèle SVM\n",
        "    classifier = SVC(kernel='linear')  # Utiliser le noyau linéaire pour SVM\n",
        "    classifier.fit(X_train_tfidf, y_train)\n",
        "\n",
        "    # Évaluer le modèle sur l'ensemble de développement\n",
        "    y_pred = classifier.predict(X_dev_tfidf)\n",
        "    accuracy = accuracy_score(y_dev, y_pred)\n",
        "    report = classification_report(y_dev, y_pred)\n",
        "    conf_matrix = confusion_matrix(y_dev, y_pred)\n",
        "\n",
        "    print(f\"Accuracy: {accuracy:.2f}\")\n",
        "    print(\"Classification Report:\\n\", report)\n",
        "    print(\"\\n\")\n",
        "    class_names = ['Dessert', 'Entrée', 'Plat principal']\n",
        "    plot_confusion_matrix(conf_matrix, class_names)\n",
        "\n",
        "\n",
        "    joblib.dump(vectorizer, 'tfidf_vectorizer.joblib')\n",
        "    joblib.dump(classifier, 'svm_classifier.joblib')\n",
        "\n",
        "if __name__ == \"__main__\":\n",
        "    main(train_data_path,validation_data_path)\n"
      ]
    },
    {
      "cell_type": "code",
      "execution_count": 174,
      "metadata": {
        "colab": {
          "base_uri": "https://localhost:8080/",
          "height": 571
        },
        "id": "by2RWCns4VT_",
        "outputId": "dbff3f0c-049e-4ddf-e3c7-034e84543274"
      },
      "outputs": [
        {
          "output_type": "stream",
          "name": "stdout",
          "text": [
            "TF-IDF\n",
            "Test Accuracy: 0.88\n",
            "Test Classification Report:\n",
            "                 precision    recall  f1-score   support\n",
            "\n",
            "       Dessert       0.98      1.00      0.99       407\n",
            "        Entrée       0.77      0.72      0.74       337\n",
            "Plat principal       0.86      0.89      0.87       644\n",
            "\n",
            "      accuracy                           0.88      1388\n",
            "     macro avg       0.87      0.87      0.87      1388\n",
            "  weighted avg       0.88      0.88      0.88      1388\n",
            "\n"
          ]
        },
        {
          "output_type": "display_data",
          "data": {
            "text/plain": [
              "<Figure size 400x300 with 1 Axes>"
            ],
            "image/png": "[encoded data removed]"
          },
          "metadata": {}
        }
      ],
      "source": [
        "def test_model_TFIDF(test_filepath):\n",
        "    # Charger le vectorisateur et le modèle\n",
        "    vectorizer = joblib.load('tfidf_vectorizer.joblib')\n",
        "    classifier = joblib.load('svm_classifier.joblib')\n",
        "\n",
        "    # Charger et préparer les données de test\n",
        "    X_test, y_test = load_and_prepare_data(test_filepath)\n",
        "    X_test_tfidf = vectorizer.transform(X_test)\n",
        "\n",
        "    # Faire des prédictions et évaluer le modèle\n",
        "    y_pred_test = classifier.predict(X_test_tfidf)\n",
        "    accuracy = accuracy_score(y_test, y_pred_test)\n",
        "    report = classification_report(y_test, y_pred_test)\n",
        "    conf_matrix = confusion_matrix(y_test, y_pred_test)\n",
        "\n",
        "\n",
        "    print(f\"Test Accuracy: {accuracy:.2f}\")\n",
        "    print(\"Test Classification Report:\\n\", report)\n",
        "    class_names = ['Dessert', 'Entrée', 'Plat principal']\n",
        "    plot_confusion_matrix(conf_matrix, class_names)\n",
        "\n",
        "if __name__ == \"__main__\":\n",
        "    print('TF-IDF')\n",
        "    test_model_TFIDF(test_filepath)"
      ]
    },
    {
      "cell_type": "markdown",
      "metadata": {
        "id": "nQ7NPwhDIrjd"
      },
      "source": [
        "# **WORD2VEC**"
      ]
    },
    {
      "cell_type": "code",
      "execution_count": 177,
      "metadata": {
        "colab": {
          "base_uri": "https://localhost:8080/",
          "height": 571
        },
        "id": "9zW89rI9F669",
        "outputId": "faf5f935-6290-43fe-b64e-5f86353261e1"
      },
      "outputs": [
        {
          "output_type": "stream",
          "name": "stderr",
          "text": [
            "WARNING:gensim.models.word2vec:Effective 'alpha' higher than previous training cycles\n"
          ]
        },
        {
          "output_type": "stream",
          "name": "stdout",
          "text": [
            "Accuracy: 0.83\n",
            "Classification Report:\n",
            "                 precision    recall  f1-score   support\n",
            "\n",
            "       Dessert       0.98      0.99      0.98       726\n",
            "        Entrée       0.70      0.52      0.60       611\n",
            "Plat principal       0.78      0.88      0.83      1158\n",
            "\n",
            "      accuracy                           0.83      2495\n",
            "     macro avg       0.82      0.80      0.80      2495\n",
            "  weighted avg       0.82      0.83      0.82      2495\n",
            "\n"
          ]
        },
        {
          "output_type": "display_data",
          "data": {
            "text/plain": [
              "<Figure size 400x300 with 1 Axes>"
            ],
            "image/png": "[encoded data removed]"
          },
          "metadata": {}
        }
      ],
      "source": [
        "from sklearn.linear_model import LogisticRegression\n",
        "\n",
        "# Fonction pour entraîner un modèle Word2Vec sur le corpus\n",
        "def train_word2vec(corpus):\n",
        "    # Prétraitement des données pour Word2Vec\n",
        "    sentences = [sentence.split() for sentence in corpus]\n",
        "    model = Word2Vec(sentences, vector_size=100, window=5, min_count=1, workers=4)\n",
        "    model.train(sentences, total_examples=len(sentences), epochs=10)\n",
        "    return model\n",
        "\n",
        "# Fonction pour vectoriser les données en utilisant le modèle Word2Vec\n",
        "def vectorize_with_word2vec(model, corpus):\n",
        "    vectorized_data = np.array([\n",
        "        np.mean([model.wv[word] for word in sentence.split() if word in model.wv]\n",
        "                or [np.zeros(model.vector_size)], axis=0)\n",
        "        for sentence in corpus\n",
        "    ])\n",
        "    return vectorized_data\n",
        "\n",
        "# Fonction pour entraîner le modèle de classification\n",
        "def train_classifier(X_train_vec, y_train):\n",
        "    classifier = LogisticRegression(max_iter=1000)\n",
        "    classifier.fit(X_train_vec, y_train)\n",
        "    return classifier\n",
        "\n",
        "# Fonction pour évaluer le modèle de classification\n",
        "def evaluate_model(classifier, X_dev_vec, y_dev):\n",
        "    y_pred = classifier.predict(X_dev_vec)\n",
        "    accuracy = accuracy_score(y_dev, y_pred)\n",
        "    report = classification_report(y_dev, y_pred)\n",
        "    conf_matrix =  confusion_matrix(y_dev, y_pred)\n",
        "    return accuracy, report,conf_matrix\n",
        "\n",
        "def main(train_filepath, dev_filepath):\n",
        "    X_train, y_train = load_and_prepare_data(train_filepath)\n",
        "    X_dev, y_dev = load_and_prepare_data(dev_filepath)\n",
        "\n",
        "    # Entraîner le modèle Word2Vec\n",
        "    word2vec_model = train_word2vec(pd.concat([X_train, X_dev]))\n",
        "\n",
        "    # Vectoriser les données textuelles\n",
        "    X_train_vec = vectorize_with_word2vec(word2vec_model, X_train)\n",
        "    X_dev_vec = vectorize_with_word2vec(word2vec_model, X_dev)\n",
        "\n",
        "    # Entraîner le modèle de classification\n",
        "    classifier = train_classifier(X_train_vec, y_train)\n",
        "\n",
        "    # Évaluer le modèle\n",
        "    accuracy, report,conf_matrix = evaluate_model(classifier, X_dev_vec, y_dev)\n",
        "\n",
        "    joblib.dump(classifier, 'LR_classifier.joblib')\n",
        "    word2vec_model.save(\"word2vec.model\")\n",
        "\n",
        "    print(f\"Accuracy: {accuracy:.2f}\")\n",
        "    print(\"Classification Report:\\n\", report)\n",
        "    class_names = ['Dessert', 'Entrée', 'Plat principal']\n",
        "    plot_confusion_matrix(conf_matrix, class_names)\n",
        "if __name__ == \"__main__\":\n",
        "        main(train_data_path,validation_data_path)\n"
      ]
    },
    {
      "cell_type": "code",
      "source": [
        "def test_model_word2vec(test_filepath):\n",
        "\n",
        "    classifier = joblib.load('LR_classifier.joblib')\n",
        "    word2vec_model = Word2Vec.load(\"word2vec.model\")\n",
        "\n",
        "    X_test, y_test = load_and_prepare_data(test_filepath)\n",
        "    X_test_vec = vectorize_with_word2vec(word2vec_model, X_test)\n",
        "\n",
        "    accuracy, report,conf_matrix = evaluate_model(classifier, X_test_vec, y_test)\n",
        "\n",
        "    print(f\"Test Accuracy: {accuracy:.2f}\")\n",
        "    print(\"Test Classification Report:\\n\", report)\n",
        "    class_names = ['Dessert', 'Entrée', 'Plat principal']\n",
        "    plot_confusion_matrix(conf_matrix, class_names)\n",
        "\n",
        "\n",
        "if __name__ == \"__main__\":\n",
        "    print('Word2vec')\n",
        "    test_model_word2vec(test_filepath)"
      ],
      "metadata": {
        "colab": {
          "base_uri": "https://localhost:8080/",
          "height": 571
        },
        "id": "-moagz4nFFK3",
        "outputId": "63b885d6-5038-4c28-c180-a8399b32db9c"
      },
      "execution_count": 178,
      "outputs": [
        {
          "output_type": "stream",
          "name": "stdout",
          "text": [
            "Word2vec\n",
            "Test Accuracy: 0.84\n",
            "Test Classification Report:\n",
            "                 precision    recall  f1-score   support\n",
            "\n",
            "       Dessert       0.98      0.99      0.98       407\n",
            "        Entrée       0.74      0.57      0.64       337\n",
            "Plat principal       0.80      0.89      0.84       644\n",
            "\n",
            "      accuracy                           0.84      1388\n",
            "     macro avg       0.84      0.82      0.82      1388\n",
            "  weighted avg       0.84      0.84      0.84      1388\n",
            "\n"
          ]
        },
        {
          "output_type": "display_data",
          "data": {
            "text/plain": [
              "<Figure size 400x300 with 1 Axes>"
            ],
            "image/png": "[encoded data removed]"
          },
          "metadata": {}
        }
      ]
    },
    {
      "cell_type": "code",
      "source": [],
      "metadata": {
        "id": "xmgUrm8XFFsR"
      },
      "execution_count": 176,
      "outputs": []
    }
  ],
  "metadata": {
    "colab": {
      "provenance": []
    },
    "kernelspec": {
      "display_name": "Python 3",
      "name": "python3"
    },
    "language_info": {
      "name": "python"
    }
  },
  "nbformat": 4,
  "nbformat_minor": 0
}
